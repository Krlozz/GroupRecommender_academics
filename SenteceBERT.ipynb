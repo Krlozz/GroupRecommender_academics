{
 "cells": [
  {
   "cell_type": "code",
   "execution_count": null,
   "id": "5c055b53",
   "metadata": {},
   "outputs": [],
   "source": [
    "!pip install transformers\n",
    "!pip install sentence-transformers\n",
    "!pip install joblib"
   ]
  },
  {
   "cell_type": "raw",
   "id": "fd653596",
   "metadata": {},
   "source": [
    "Name: transformers\n",
    "Version: 4.36.2\n",
    "Summary: State-of-the-art Machine Learning for JAX, PyTorch and TensorFlow\n",
    "Home-page: https://github.com/huggingface/transformers\n",
    "Author: The Hugging Face team (past and future) with the help of all our contributors (https://github.com/huggingface/transformers/graphs/contributors)\n",
    "Author-email: transformers@huggingface.co\n",
    "License: Apache 2.0 License\n",
    "Location: c:\\users\\krlozz\\anaconda3\\lib\\site-packages\n",
    "Requires: filelock, huggingface-hub, numpy, packaging, pyyaml, regex, requests, safetensors, tokenizers, tqdm\n",
    "Required-by: bert-score, sentence-transformers"
   ]
  },
  {
   "cell_type": "raw",
   "id": "5adc3c7e",
   "metadata": {},
   "source": [
    "Name: sentence-transformers\n",
    "Version: 3.0.1\n",
    "Summary: Multilingual text embeddings\n",
    "Home-page: https://www.SBERT.net\n",
    "Author: Nils Reimers, Tom Aarsen\n",
    "Author-email: info@nils-reimers.de\n",
    "License: Apache License 2.0\n",
    "Location: c:\\users\\krlozz\\anaconda3\\lib\\site-packages\n",
    "Requires: huggingface-hub, numpy, Pillow, scikit-learn, scipy, torch, tqdm, transformers\n",
    "Required-by: bertopic, keybert"
   ]
  },
  {
   "cell_type": "raw",
   "id": "cf275765",
   "metadata": {},
   "source": [
    "Name: joblib\n",
    "Version: 1.1.0\n",
    "Summary: Lightweight pipelining with Python functions\n",
    "Home-page: https://joblib.readthedocs.io\n",
    "Author: Gael Varoquaux\n",
    "Author-email: gael.varoquaux@normalesup.org\n",
    "License: BSD\n",
    "Location: c:\\users\\krlozz\\anaconda3\\lib\\site-packages\n",
    "Requires: \n",
    "Required-by: hdbscan, mlxtend, nltk, pynndescent, scikit-learn"
   ]
  },
  {
   "cell_type": "markdown",
   "id": "1a12a421",
   "metadata": {},
   "source": [
    "# SenteceBERT"
   ]
  },
  {
   "cell_type": "code",
   "execution_count": 1,
   "id": "83d7f3d0",
   "metadata": {},
   "outputs": [
    {
     "name": "stderr",
     "output_type": "stream",
     "text": [
      "C:\\Users\\Krlozz\\anaconda3\\lib\\site-packages\\sentence_transformers\\cross_encoder\\CrossEncoder.py:11: TqdmExperimentalWarning: Using `tqdm.autonotebook.tqdm` in notebook mode. Use `tqdm.tqdm` instead to force console mode (e.g. in jupyter console)\n",
      "  from tqdm.autonotebook import tqdm, trange\n",
      "C:\\Users\\Krlozz\\anaconda3\\lib\\site-packages\\transformers\\utils\\generic.py:441: FutureWarning: `torch.utils._pytree._register_pytree_node` is deprecated. Please use `torch.utils._pytree.register_pytree_node` instead.\n",
      "  _torch_pytree._register_pytree_node(\n",
      "C:\\Users\\Krlozz\\anaconda3\\lib\\site-packages\\transformers\\utils\\generic.py:309: FutureWarning: `torch.utils._pytree._register_pytree_node` is deprecated. Please use `torch.utils._pytree.register_pytree_node` instead.\n",
      "  _torch_pytree._register_pytree_node(\n"
     ]
    }
   ],
   "source": [
    "import pandas as pd\n",
    "from sentence_transformers import SentenceTransformer\n",
    "import os\n",
    "import joblib"
   ]
  },
  {
   "cell_type": "code",
   "execution_count": 2,
   "id": "03c827a2",
   "metadata": {},
   "outputs": [],
   "source": [
    "article_clean = 'C:/Users/Krlozz/Documents/Tesis/TesisFinal/ProcessedData/article_clean.csv'\n",
    "data = pd.read_csv(article_clean)"
   ]
  },
  {
   "cell_type": "code",
   "execution_count": 3,
   "id": "67900523",
   "metadata": {},
   "outputs": [
    {
     "data": {
      "text/html": [
       "<div>\n",
       "<style scoped>\n",
       "    .dataframe tbody tr th:only-of-type {\n",
       "        vertical-align: middle;\n",
       "    }\n",
       "\n",
       "    .dataframe tbody tr th {\n",
       "        vertical-align: top;\n",
       "    }\n",
       "\n",
       "    .dataframe thead th {\n",
       "        text-align: right;\n",
       "    }\n",
       "</style>\n",
       "<table border=\"1\" class=\"dataframe\">\n",
       "  <thead>\n",
       "    <tr style=\"text-align: right;\">\n",
       "      <th></th>\n",
       "      <th>id_article</th>\n",
       "      <th>title</th>\n",
       "      <th>abstract</th>\n",
       "      <th>num_keywords</th>\n",
       "      <th>keywords</th>\n",
       "    </tr>\n",
       "  </thead>\n",
       "  <tbody>\n",
       "    <tr>\n",
       "      <th>0</th>\n",
       "      <td>85133492759</td>\n",
       "      <td>metamodeling audio signals design process enco...</td>\n",
       "      <td>context following work arises exploratory inte...</td>\n",
       "      <td>4.0</td>\n",
       "      <td>audio signals design process, experimental des...</td>\n",
       "    </tr>\n",
       "    <tr>\n",
       "      <th>1</th>\n",
       "      <td>85133293730</td>\n",
       "      <td>facility layout design textile msmes literatur...</td>\n",
       "      <td>capacity respond adapt risks problems organiza...</td>\n",
       "      <td>4.0</td>\n",
       "      <td>facility layout problem, indicators, resilienc...</td>\n",
       "    </tr>\n",
       "    <tr>\n",
       "      <th>2</th>\n",
       "      <td>85132518705</td>\n",
       "      <td>optimal finite sample post selection confidenc...</td>\n",
       "      <td>uniformly powerful confidence distributions ob...</td>\n",
       "      <td>6.0</td>\n",
       "      <td>confidence distribution, confidence interval, ...</td>\n",
       "    </tr>\n",
       "    <tr>\n",
       "      <th>3</th>\n",
       "      <td>85112575431</td>\n",
       "      <td>corporate social responsibility green innovati...</td>\n",
       "      <td>purpose purpose paper explore interplay corpor...</td>\n",
       "      <td>6.0</td>\n",
       "      <td>competitiveness, corporate social responsibili...</td>\n",
       "    </tr>\n",
       "    <tr>\n",
       "      <th>4</th>\n",
       "      <td>85109263966</td>\n",
       "      <td>analysing competing logics towards sustainable...</td>\n",
       "      <td>purpose understand context surrounding sustain...</td>\n",
       "      <td>4.0</td>\n",
       "      <td>food industry, global supply chain, supply cha...</td>\n",
       "    </tr>\n",
       "    <tr>\n",
       "      <th>...</th>\n",
       "      <td>...</td>\n",
       "      <td>...</td>\n",
       "      <td>...</td>\n",
       "      <td>...</td>\n",
       "      <td>...</td>\n",
       "    </tr>\n",
       "    <tr>\n",
       "      <th>37673</th>\n",
       "      <td>12371997</td>\n",
       "      <td>etiological agents respiratory allergy tropica...</td>\n",
       "      <td>tropical countries central south america grow ...</td>\n",
       "      <td>5.0</td>\n",
       "      <td>NaN</td>\n",
       "    </tr>\n",
       "    <tr>\n",
       "      <th>37674</th>\n",
       "      <td>84918742422</td>\n",
       "      <td>histamine shock vitamins</td>\n",
       "      <td>even high doses vit complex protect guinea pig...</td>\n",
       "      <td>5.0</td>\n",
       "      <td>NaN</td>\n",
       "    </tr>\n",
       "    <tr>\n",
       "      <th>37675</th>\n",
       "      <td>34347185703</td>\n",
       "      <td>einfache wageburetten und ihr zweckmaßiger geb...</td>\n",
       "      <td>weighing burettes described constructed operat...</td>\n",
       "      <td>5.0</td>\n",
       "      <td>NaN</td>\n",
       "    </tr>\n",
       "    <tr>\n",
       "      <th>37676</th>\n",
       "      <td>33947340215</td>\n",
       "      <td>determination ash content sugar products stand...</td>\n",
       "      <td>experiments showed sulfated ash method needed ...</td>\n",
       "      <td>5.0</td>\n",
       "      <td>NaN</td>\n",
       "    </tr>\n",
       "    <tr>\n",
       "      <th>37677</th>\n",
       "      <td>33947348189</td>\n",
       "      <td>unknown property calomel half cell estimation ...</td>\n",
       "      <td>potential calomel half cell strongly influence...</td>\n",
       "      <td>5.0</td>\n",
       "      <td>NaN</td>\n",
       "    </tr>\n",
       "  </tbody>\n",
       "</table>\n",
       "<p>37678 rows × 5 columns</p>\n",
       "</div>"
      ],
      "text/plain": [
       "        id_article                                              title  \\\n",
       "0      85133492759  metamodeling audio signals design process enco...   \n",
       "1      85133293730  facility layout design textile msmes literatur...   \n",
       "2      85132518705  optimal finite sample post selection confidenc...   \n",
       "3      85112575431  corporate social responsibility green innovati...   \n",
       "4      85109263966  analysing competing logics towards sustainable...   \n",
       "...            ...                                                ...   \n",
       "37673     12371997  etiological agents respiratory allergy tropica...   \n",
       "37674  84918742422                           histamine shock vitamins   \n",
       "37675  34347185703  einfache wageburetten und ihr zweckmaßiger geb...   \n",
       "37676  33947340215  determination ash content sugar products stand...   \n",
       "37677  33947348189  unknown property calomel half cell estimation ...   \n",
       "\n",
       "                                                abstract  num_keywords  \\\n",
       "0      context following work arises exploratory inte...           4.0   \n",
       "1      capacity respond adapt risks problems organiza...           4.0   \n",
       "2      uniformly powerful confidence distributions ob...           6.0   \n",
       "3      purpose purpose paper explore interplay corpor...           6.0   \n",
       "4      purpose understand context surrounding sustain...           4.0   \n",
       "...                                                  ...           ...   \n",
       "37673  tropical countries central south america grow ...           5.0   \n",
       "37674  even high doses vit complex protect guinea pig...           5.0   \n",
       "37675  weighing burettes described constructed operat...           5.0   \n",
       "37676  experiments showed sulfated ash method needed ...           5.0   \n",
       "37677  potential calomel half cell strongly influence...           5.0   \n",
       "\n",
       "                                                keywords  \n",
       "0      audio signals design process, experimental des...  \n",
       "1      facility layout problem, indicators, resilienc...  \n",
       "2      confidence distribution, confidence interval, ...  \n",
       "3      competitiveness, corporate social responsibili...  \n",
       "4      food industry, global supply chain, supply cha...  \n",
       "...                                                  ...  \n",
       "37673                                                NaN  \n",
       "37674                                                NaN  \n",
       "37675                                                NaN  \n",
       "37676                                                NaN  \n",
       "37677                                                NaN  \n",
       "\n",
       "[37678 rows x 5 columns]"
      ]
     },
     "execution_count": 3,
     "metadata": {},
     "output_type": "execute_result"
    }
   ],
   "source": [
    "data"
   ]
  },
  {
   "cell_type": "code",
   "execution_count": 4,
   "id": "e61957b3",
   "metadata": {},
   "outputs": [],
   "source": [
    "abstracts = data['abstract'].tolist()"
   ]
  },
  {
   "cell_type": "code",
   "execution_count": 5,
   "id": "8b948f48",
   "metadata": {},
   "outputs": [
    {
     "name": "stderr",
     "output_type": "stream",
     "text": [
      "C:\\Users\\Krlozz\\anaconda3\\lib\\site-packages\\huggingface_hub\\file_download.py:1150: FutureWarning: `resume_download` is deprecated and will be removed in version 1.0.0. Downloads always resume when possible. If you want to force a new download, use `force_download=True`.\n",
      "  warnings.warn(\n",
      "C:\\Users\\Krlozz\\anaconda3\\lib\\site-packages\\transformers\\utils\\generic.py:309: FutureWarning: `torch.utils._pytree._register_pytree_node` is deprecated. Please use `torch.utils._pytree.register_pytree_node` instead.\n",
      "  _torch_pytree._register_pytree_node(\n"
     ]
    }
   ],
   "source": [
    "model = SentenceTransformer('paraphrase-multilingual-MiniLM-L12-v2')"
   ]
  },
  {
   "cell_type": "code",
   "execution_count": 6,
   "id": "608efd27",
   "metadata": {},
   "outputs": [
    {
     "data": {
      "application/vnd.jupyter.widget-view+json": {
       "model_id": "a41c158c4d254412b433635a3eb4db9e",
       "version_major": 2,
       "version_minor": 0
      },
      "text/plain": [
       "Batches:   0%|          | 0/1178 [00:00<?, ?it/s]"
      ]
     },
     "metadata": {},
     "output_type": "display_data"
    }
   ],
   "source": [
    "embeddings = model.encode(abstracts, show_progress_bar=True)"
   ]
  },
  {
   "cell_type": "code",
   "execution_count": 7,
   "id": "cfc0170f",
   "metadata": {},
   "outputs": [],
   "source": [
    "model_save_path = \"C:/Users/Krlozz/Documents/Tesis/TesisFinal/Model/sentence_bert_model\""
   ]
  },
  {
   "cell_type": "code",
   "execution_count": 8,
   "id": "b4678aa5",
   "metadata": {},
   "outputs": [],
   "source": [
    "os.makedirs(os.path.dirname(model_save_path), exist_ok=True)"
   ]
  },
  {
   "cell_type": "code",
   "execution_count": 9,
   "id": "a964e039",
   "metadata": {},
   "outputs": [
    {
     "name": "stdout",
     "output_type": "stream",
     "text": [
      "Modelo guardado en: C:/Users/Krlozz/Documents/Tesis/TesisFinal/Model/sentence_bert_model\n"
     ]
    }
   ],
   "source": [
    "joblib.dump(model, model_save_path)\n",
    "print(f\"Modelo guardado en: {model_save_path}\")"
   ]
  },
  {
   "cell_type": "code",
   "execution_count": null,
   "id": "0887ea40",
   "metadata": {},
   "outputs": [],
   "source": []
  }
 ],
 "metadata": {
  "kernelspec": {
   "display_name": "Python 3 (ipykernel)",
   "language": "python",
   "name": "python3"
  },
  "language_info": {
   "codemirror_mode": {
    "name": "ipython",
    "version": 3
   },
   "file_extension": ".py",
   "mimetype": "text/x-python",
   "name": "python",
   "nbconvert_exporter": "python",
   "pygments_lexer": "ipython3",
   "version": "3.9.13"
  }
 },
 "nbformat": 4,
 "nbformat_minor": 5
}
