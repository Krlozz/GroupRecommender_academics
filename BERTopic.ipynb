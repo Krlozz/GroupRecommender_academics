{
 "cells": [
  {
   "cell_type": "code",
   "execution_count": null,
   "id": "e06d67a6",
   "metadata": {},
   "outputs": [],
   "source": [
    "!pip install bertopic"
   ]
  },
  {
   "cell_type": "markdown",
   "id": "6f19512a",
   "metadata": {},
   "source": [
    "# BERTopic"
   ]
  },
  {
   "cell_type": "code",
   "execution_count": 18,
   "id": "572b5818",
   "metadata": {},
   "outputs": [],
   "source": [
    "from bertopic import BERTopic\n",
    "import pandas as pd\n",
    "import joblib\n",
    "import numpy as np"
   ]
  },
  {
   "cell_type": "code",
   "execution_count": 19,
   "id": "c53a33ce",
   "metadata": {},
   "outputs": [],
   "source": [
    "data_path = \"C:/Users/Krlozz/Documents/Tesis/TesisFinal/ProcessedData/data_groups.csv\"\n",
    "article_clean_path = \"C:/Users/Krlozz/Documents/Tesis/TesisFinal/ProcessedData/article_clean.csv\"\n",
    "sentence_bert_model_path = \"C:/Users/Krlozz/Documents/Tesis/TesisFinal/Model/sentence_bert_model\"\n",
    "bertopic_model_path = \"C:/Users/Krlozz/Documents/Tesis/TesisFinal/Model/bertopic_model\"\n",
    "output_csv_path = \"C:/Users/Krlozz/Documents/Tesis/TesisFinal/ProcessedData/group_recommendations.csv\"\n",
    "topics_path = \"C:/Users/Krlozz/Documents/Tesis/TesisFinal/Model/topics_TB.pkl\"\n",
    "probs_path = \"C:/Users/Krlozz/Documents/Tesis/TesisFinal/Model/probs_TB.pkl\""
   ]
  },
  {
   "cell_type": "code",
   "execution_count": 20,
   "id": "6084af87",
   "metadata": {},
   "outputs": [],
   "source": [
    "data = pd.read_csv(data_path)\n",
    "articles = pd.read_csv(article_clean_path)"
   ]
  },
  {
   "cell_type": "code",
   "execution_count": 21,
   "id": "5b5c2d71",
   "metadata": {},
   "outputs": [],
   "source": [
    "model_sentence = joblib.load(sentence_bert_model_path)"
   ]
  },
  {
   "cell_type": "code",
   "execution_count": 5,
   "id": "6c300a2b",
   "metadata": {},
   "outputs": [],
   "source": [
    "abstracts = articles['abstract'].dropna().tolist()"
   ]
  },
  {
   "cell_type": "code",
   "execution_count": 6,
   "id": "d709ba75",
   "metadata": {},
   "outputs": [],
   "source": [
    "model = BERTopic(\n",
    "    verbose=True,\n",
    "    language=\"multilingual\",\n",
    "    embedding_model=model_sentence,\n",
    "    min_topic_size=10,\n",
    "    calculate_probabilities=True\n",
    ")"
   ]
  },
  {
   "cell_type": "code",
   "execution_count": 7,
   "id": "b6d87df8",
   "metadata": {},
   "outputs": [
    {
     "name": "stderr",
     "output_type": "stream",
     "text": [
      "2024-12-02 22:21:27,041 - BERTopic - Embedding - Transforming documents to embeddings.\n"
     ]
    },
    {
     "data": {
      "application/vnd.jupyter.widget-view+json": {
       "model_id": "dd1d66c65285416dba487471e1c35183",
       "version_major": 2,
       "version_minor": 0
      },
      "text/plain": [
       "Batches:   0%|          | 0/1178 [00:00<?, ?it/s]"
      ]
     },
     "metadata": {},
     "output_type": "display_data"
    },
    {
     "name": "stderr",
     "output_type": "stream",
     "text": [
      "2024-12-02 22:46:32,238 - BERTopic - Embedding - Completed ✓\n",
      "2024-12-02 22:46:32,238 - BERTopic - Dimensionality - Fitting the dimensionality reduction algorithm\n",
      "2024-12-02 22:47:06,097 - BERTopic - Dimensionality - Completed ✓\n",
      "2024-12-02 22:47:06,097 - BERTopic - Cluster - Start clustering the reduced embeddings\n",
      "2024-12-02 22:53:27,265 - BERTopic - Cluster - Completed ✓\n",
      "2024-12-02 22:53:27,286 - BERTopic - Representation - Extracting topics from clusters using representation models.\n",
      "2024-12-02 22:53:33,861 - BERTopic - Representation - Completed ✓\n"
     ]
    }
   ],
   "source": [
    "topics, probs = model.fit_transform(abstracts)"
   ]
  },
  {
   "cell_type": "code",
   "execution_count": 22,
   "id": "cd6aa026",
   "metadata": {},
   "outputs": [
    {
     "data": {
      "text/plain": [
       "['C:/Users/Krlozz/Documents/Tesis/TesisFinal/Model/probs_TB.pkl']"
      ]
     },
     "execution_count": 22,
     "metadata": {},
     "output_type": "execute_result"
    }
   ],
   "source": [
    "joblib.dump(model, bertopic_model_path)\n",
    "joblib.dump(topics, topics_path)\n",
    "joblib.dump(probs, probs_path)"
   ]
  },
  {
   "cell_type": "code",
   "execution_count": 23,
   "id": "67663ad4",
   "metadata": {},
   "outputs": [
    {
     "name": "stdout",
     "output_type": "stream",
     "text": [
      "Modelo BERTopic guardado en: C:/Users/Krlozz/Documents/Tesis/TesisFinal/Model/bertopic_model\n",
      "Variable 'topics' guardada en: C:/Users/Krlozz/Documents/Tesis/TesisFinal/Model/topics_TB.pkl\n",
      "Variable 'probs' guardada en: C:/Users/Krlozz/Documents/Tesis/TesisFinal/Model/probs_TB.pkl\n"
     ]
    }
   ],
   "source": [
    "print(f\"Modelo BERTopic guardado en: {bertopic_model_path}\")\n",
    "print(f\"Variable 'topics' guardada en: {topics_path}\")\n",
    "print(f\"Variable 'probs' guardada en: {probs_path}\")"
   ]
  },
  {
   "cell_type": "code",
   "execution_count": 24,
   "id": "b87b53b7",
   "metadata": {},
   "outputs": [],
   "source": [
    "model_bertopic = joblib.load(bertopic_model_path)"
   ]
  },
  {
   "cell_type": "code",
   "execution_count": 25,
   "id": "8195abc4",
   "metadata": {},
   "outputs": [],
   "source": [
    "topics = joblib.load(topics_path)\n",
    "probs = joblib.load(probs_path)"
   ]
  },
  {
   "cell_type": "code",
   "execution_count": 26,
   "id": "314f6e9f",
   "metadata": {},
   "outputs": [
    {
     "name": "stdout",
     "output_type": "stream",
     "text": [
      "Variable 'topics' cargada.\n",
      "Variable 'probs' cargada.\n"
     ]
    }
   ],
   "source": [
    "print(\"Variable 'topics' cargada.\")\n",
    "print(\"Variable 'probs' cargada.\")"
   ]
  },
  {
   "cell_type": "code",
   "execution_count": 27,
   "id": "b2261c7e",
   "metadata": {},
   "outputs": [],
   "source": [
    "recommendations = []"
   ]
  },
  {
   "cell_type": "code",
   "execution_count": 28,
   "id": "725fe73a",
   "metadata": {},
   "outputs": [],
   "source": [
    "for idx, row in data.iterrows():\n",
    "    group_keywords = row['keywords'].split(',') if pd.notna(row['keywords']) else []\n",
    "    index_novelty = row['index_novelty']\n",
    "    id_group = row['id_group']\n",
    "    authors = row['authors']\n",
    "    \n",
    "    group_embedding = model_sentence.encode(group_keywords, convert_to_tensor=True)\n",
    "    \n",
    "    topic_info = []\n",
    "    for topic_id in set(topics):\n",
    "        if topic_id == -1:\n",
    "            continue\n",
    "        topic_keywords = model_bertopic.get_topic(topic_id)\n",
    "        topic_keywords_list = [kw for kw, _ in topic_keywords]\n",
    "        topic_embedding = model_sentence.encode(topic_keywords_list, convert_to_tensor=True)\n",
    "        \n",
    "        similarity = np.dot(group_embedding, topic_embedding.T).max().item()\n",
    "        \n",
    "        final_score = similarity * (index_novelty)\n",
    "        topic_info.append((topic_id, final_score))\n",
    "        \n",
    "    topic_info = sorted(topic_info, key=lambda x: x[1], reverse=True)[:20]\n",
    "    \n",
    "    recommended_topics = [model_bertopic.get_topic(topic_id) for topic_id, _ in topic_info]\n",
    "    scores = [score for _, score in topic_info]\n",
    "\n",
    "    recommendations.append({\n",
    "        \"id_group\": id_group,\n",
    "        \"authors\": authors,\n",
    "        \"index_novelty\": index_novelty,\n",
    "        \"topics\": recommended_topics,\n",
    "        \"score_final\": scores\n",
    "    })"
   ]
  },
  {
   "cell_type": "code",
   "execution_count": 29,
   "id": "e142a282",
   "metadata": {},
   "outputs": [],
   "source": [
    "recommendations_df = pd.DataFrame(recommendations)"
   ]
  },
  {
   "cell_type": "code",
   "execution_count": 46,
   "id": "890ef66f",
   "metadata": {},
   "outputs": [
    {
     "data": {
      "text/html": [
       "<div>\n",
       "<style scoped>\n",
       "    .dataframe tbody tr th:only-of-type {\n",
       "        vertical-align: middle;\n",
       "    }\n",
       "\n",
       "    .dataframe tbody tr th {\n",
       "        vertical-align: top;\n",
       "    }\n",
       "\n",
       "    .dataframe thead th {\n",
       "        text-align: right;\n",
       "    }\n",
       "</style>\n",
       "<table border=\"1\" class=\"dataframe\">\n",
       "  <thead>\n",
       "    <tr style=\"text-align: right;\">\n",
       "      <th></th>\n",
       "      <th>id_group</th>\n",
       "      <th>authors</th>\n",
       "      <th>index_novelty</th>\n",
       "      <th>topics</th>\n",
       "      <th>score_final</th>\n",
       "    </tr>\n",
       "  </thead>\n",
       "  <tbody>\n",
       "    <tr>\n",
       "      <th>0</th>\n",
       "      <td>group1</td>\n",
       "      <td>7403483234, 57200218104, 6603155100</td>\n",
       "      <td>0.164957</td>\n",
       "      <td>[[(accidents, 0.059561232558306254), (traffic,...</td>\n",
       "      <td>[7.579230178692796, 7.159059091004564, 6.65685...</td>\n",
       "    </tr>\n",
       "    <tr>\n",
       "      <th>1</th>\n",
       "      <td>group2</td>\n",
       "      <td>24734179100, 7003513941, 7005237183</td>\n",
       "      <td>0.228035</td>\n",
       "      <td>[[(pigs, 0.05495710726959359), (piglets, 0.034...</td>\n",
       "      <td>[10.740213204328938, 10.740213204328938, 8.469...</td>\n",
       "    </tr>\n",
       "    <tr>\n",
       "      <th>2</th>\n",
       "      <td>group3</td>\n",
       "      <td>24734179100, 7005237183, 7102187693</td>\n",
       "      <td>0.417438</td>\n",
       "      <td>[[(epilepsy, 0.06778589132666105), (seizures, ...</td>\n",
       "      <td>[11.450527233615503, 11.165373317306148, 11.16...</td>\n",
       "    </tr>\n",
       "    <tr>\n",
       "      <th>3</th>\n",
       "      <td>group4</td>\n",
       "      <td>7003513941, 7005237183, 7102187693</td>\n",
       "      <td>0.227795</td>\n",
       "      <td>[[(pigs, 0.05495710726959359), (piglets, 0.034...</td>\n",
       "      <td>[10.728905346782083, 10.728905346782083, 8.460...</td>\n",
       "    </tr>\n",
       "    <tr>\n",
       "      <th>4</th>\n",
       "      <td>group5</td>\n",
       "      <td>24734179100, 7003513941, 7102187693</td>\n",
       "      <td>0.225247</td>\n",
       "      <td>[[(pigs, 0.05495710726959359), (piglets, 0.034...</td>\n",
       "      <td>[10.608903936976272, 10.608903936976272, 8.365...</td>\n",
       "    </tr>\n",
       "    <tr>\n",
       "      <th>...</th>\n",
       "      <td>...</td>\n",
       "      <td>...</td>\n",
       "      <td>...</td>\n",
       "      <td>...</td>\n",
       "      <td>...</td>\n",
       "    </tr>\n",
       "    <tr>\n",
       "      <th>17619</th>\n",
       "      <td>group17673</td>\n",
       "      <td>50361055400, 57437439400, 57438019100, 5722298...</td>\n",
       "      <td>0.257743</td>\n",
       "      <td>[[(farms, 0.04311967722380283), (livestock, 0....</td>\n",
       "      <td>[9.627254444952994, 9.083607675762776, 8.87781...</td>\n",
       "    </tr>\n",
       "    <tr>\n",
       "      <th>17620</th>\n",
       "      <td>group17674</td>\n",
       "      <td>50361055400, 45961087900, 57437439400, 5743801...</td>\n",
       "      <td>0.278523</td>\n",
       "      <td>[[(wound, 0.0483006429538537), (healing, 0.042...</td>\n",
       "      <td>[12.709334961936293, 10.403442507507862, 10.17...</td>\n",
       "    </tr>\n",
       "    <tr>\n",
       "      <th>17621</th>\n",
       "      <td>group17675</td>\n",
       "      <td>50361055400, 45961087900, 57437439400, 5722298...</td>\n",
       "      <td>0.276853</td>\n",
       "      <td>[[(wound, 0.0483006429538537), (healing, 0.042...</td>\n",
       "      <td>[12.633114451383333, 10.341050910952616, 10.11...</td>\n",
       "    </tr>\n",
       "    <tr>\n",
       "      <th>17622</th>\n",
       "      <td>group17676</td>\n",
       "      <td>50361055400, 45961087900, 57438019100, 5722298...</td>\n",
       "      <td>0.276853</td>\n",
       "      <td>[[(wound, 0.0483006429538537), (healing, 0.042...</td>\n",
       "      <td>[12.633114451383333, 10.341050910952616, 10.11...</td>\n",
       "    </tr>\n",
       "    <tr>\n",
       "      <th>17623</th>\n",
       "      <td>group17677</td>\n",
       "      <td>50361055400, 45961087900, 57437439400, 5743801...</td>\n",
       "      <td>0.276853</td>\n",
       "      <td>[[(wound, 0.0483006429538537), (healing, 0.042...</td>\n",
       "      <td>[12.633114451383333, 10.341050910952616, 10.11...</td>\n",
       "    </tr>\n",
       "  </tbody>\n",
       "</table>\n",
       "<p>17624 rows × 5 columns</p>\n",
       "</div>"
      ],
      "text/plain": [
       "         id_group                                            authors  \\\n",
       "0          group1                7403483234, 57200218104, 6603155100   \n",
       "1          group2                24734179100, 7003513941, 7005237183   \n",
       "2          group3                24734179100, 7005237183, 7102187693   \n",
       "3          group4                 7003513941, 7005237183, 7102187693   \n",
       "4          group5                24734179100, 7003513941, 7102187693   \n",
       "...           ...                                                ...   \n",
       "17619  group17673  50361055400, 57437439400, 57438019100, 5722298...   \n",
       "17620  group17674  50361055400, 45961087900, 57437439400, 5743801...   \n",
       "17621  group17675  50361055400, 45961087900, 57437439400, 5722298...   \n",
       "17622  group17676  50361055400, 45961087900, 57438019100, 5722298...   \n",
       "17623  group17677  50361055400, 45961087900, 57437439400, 5743801...   \n",
       "\n",
       "       index_novelty                                             topics  \\\n",
       "0           0.164957  [[(accidents, 0.059561232558306254), (traffic,...   \n",
       "1           0.228035  [[(pigs, 0.05495710726959359), (piglets, 0.034...   \n",
       "2           0.417438  [[(epilepsy, 0.06778589132666105), (seizures, ...   \n",
       "3           0.227795  [[(pigs, 0.05495710726959359), (piglets, 0.034...   \n",
       "4           0.225247  [[(pigs, 0.05495710726959359), (piglets, 0.034...   \n",
       "...              ...                                                ...   \n",
       "17619       0.257743  [[(farms, 0.04311967722380283), (livestock, 0....   \n",
       "17620       0.278523  [[(wound, 0.0483006429538537), (healing, 0.042...   \n",
       "17621       0.276853  [[(wound, 0.0483006429538537), (healing, 0.042...   \n",
       "17622       0.276853  [[(wound, 0.0483006429538537), (healing, 0.042...   \n",
       "17623       0.276853  [[(wound, 0.0483006429538537), (healing, 0.042...   \n",
       "\n",
       "                                             score_final  \n",
       "0      [7.579230178692796, 7.159059091004564, 6.65685...  \n",
       "1      [10.740213204328938, 10.740213204328938, 8.469...  \n",
       "2      [11.450527233615503, 11.165373317306148, 11.16...  \n",
       "3      [10.728905346782083, 10.728905346782083, 8.460...  \n",
       "4      [10.608903936976272, 10.608903936976272, 8.365...  \n",
       "...                                                  ...  \n",
       "17619  [9.627254444952994, 9.083607675762776, 8.87781...  \n",
       "17620  [12.709334961936293, 10.403442507507862, 10.17...  \n",
       "17621  [12.633114451383333, 10.341050910952616, 10.11...  \n",
       "17622  [12.633114451383333, 10.341050910952616, 10.11...  \n",
       "17623  [12.633114451383333, 10.341050910952616, 10.11...  \n",
       "\n",
       "[17624 rows x 5 columns]"
      ]
     },
     "execution_count": 46,
     "metadata": {},
     "output_type": "execute_result"
    }
   ],
   "source": [
    "recommendations_df"
   ]
  },
  {
   "cell_type": "code",
   "execution_count": 47,
   "id": "0768e2ef",
   "metadata": {},
   "outputs": [
    {
     "name": "stdout",
     "output_type": "stream",
     "text": [
      "Recomendaciones guardadas en: C:/Users/Krlozz/Documents/Tesis/TesisFinal/ProcessedData/group_recommendations.csv\n"
     ]
    }
   ],
   "source": [
    "recommendations_df.to_csv(output_csv_path, index=False)\n",
    "print(f\"Recomendaciones guardadas en: {output_csv_path}\")"
   ]
  },
  {
   "cell_type": "markdown",
   "id": "a80b53fb",
   "metadata": {},
   "source": [
    "# Recommendations for groups"
   ]
  },
  {
   "cell_type": "code",
   "execution_count": 32,
   "id": "e57a5416",
   "metadata": {},
   "outputs": [],
   "source": [
    "import ast\n",
    "from keybert import KeyBERT"
   ]
  },
  {
   "cell_type": "code",
   "execution_count": 33,
   "id": "989fa429",
   "metadata": {},
   "outputs": [],
   "source": [
    "input_csv_path = \"C:/Users/Krlozz/Documents/Tesis/TesisFinal/ProcessedData/group_recommendations.csv\"\n",
    "output_csv_path_recommendations = \"C:/Users/Krlozz/Documents/Tesis/TesisFinal/ProcessedData/recommendations.csv\""
   ]
  },
  {
   "cell_type": "code",
   "execution_count": 34,
   "id": "2031105b",
   "metadata": {},
   "outputs": [],
   "source": [
    "data = pd.read_csv(input_csv_path)"
   ]
  },
  {
   "cell_type": "code",
   "execution_count": 35,
   "id": "e456ca31",
   "metadata": {},
   "outputs": [
    {
     "data": {
      "text/html": [
       "<div>\n",
       "<style scoped>\n",
       "    .dataframe tbody tr th:only-of-type {\n",
       "        vertical-align: middle;\n",
       "    }\n",
       "\n",
       "    .dataframe tbody tr th {\n",
       "        vertical-align: top;\n",
       "    }\n",
       "\n",
       "    .dataframe thead th {\n",
       "        text-align: right;\n",
       "    }\n",
       "</style>\n",
       "<table border=\"1\" class=\"dataframe\">\n",
       "  <thead>\n",
       "    <tr style=\"text-align: right;\">\n",
       "      <th></th>\n",
       "      <th>id_group</th>\n",
       "      <th>authors</th>\n",
       "      <th>index_novelty</th>\n",
       "      <th>topics</th>\n",
       "      <th>score_final</th>\n",
       "    </tr>\n",
       "  </thead>\n",
       "  <tbody>\n",
       "    <tr>\n",
       "      <th>0</th>\n",
       "      <td>group1</td>\n",
       "      <td>7403483234, 57200218104, 6603155100</td>\n",
       "      <td>0.164957</td>\n",
       "      <td>[[('accidents', 0.059561232558306254), ('traff...</td>\n",
       "      <td>[7.579230178692796, 7.159059091004564, 6.65685...</td>\n",
       "    </tr>\n",
       "    <tr>\n",
       "      <th>1</th>\n",
       "      <td>group2</td>\n",
       "      <td>24734179100, 7003513941, 7005237183</td>\n",
       "      <td>0.228035</td>\n",
       "      <td>[[('pigs', 0.05495710726959359), ('piglets', 0...</td>\n",
       "      <td>[10.740213204328938, 10.740213204328938, 8.469...</td>\n",
       "    </tr>\n",
       "    <tr>\n",
       "      <th>2</th>\n",
       "      <td>group3</td>\n",
       "      <td>24734179100, 7005237183, 7102187693</td>\n",
       "      <td>0.417438</td>\n",
       "      <td>[[('epilepsy', 0.06778589132666105), ('seizure...</td>\n",
       "      <td>[11.450527233615503, 11.165373317306148, 11.16...</td>\n",
       "    </tr>\n",
       "    <tr>\n",
       "      <th>3</th>\n",
       "      <td>group4</td>\n",
       "      <td>7003513941, 7005237183, 7102187693</td>\n",
       "      <td>0.227795</td>\n",
       "      <td>[[('pigs', 0.05495710726959359), ('piglets', 0...</td>\n",
       "      <td>[10.728905346782083, 10.728905346782083, 8.460...</td>\n",
       "    </tr>\n",
       "    <tr>\n",
       "      <th>4</th>\n",
       "      <td>group5</td>\n",
       "      <td>24734179100, 7003513941, 7102187693</td>\n",
       "      <td>0.225247</td>\n",
       "      <td>[[('pigs', 0.05495710726959359), ('piglets', 0...</td>\n",
       "      <td>[10.608903936976272, 10.608903936976272, 8.365...</td>\n",
       "    </tr>\n",
       "    <tr>\n",
       "      <th>...</th>\n",
       "      <td>...</td>\n",
       "      <td>...</td>\n",
       "      <td>...</td>\n",
       "      <td>...</td>\n",
       "      <td>...</td>\n",
       "    </tr>\n",
       "    <tr>\n",
       "      <th>17619</th>\n",
       "      <td>group17673</td>\n",
       "      <td>50361055400, 57437439400, 57438019100, 5722298...</td>\n",
       "      <td>0.257743</td>\n",
       "      <td>[[('farms', 0.04311967722380283), ('livestock'...</td>\n",
       "      <td>[9.627254444952994, 9.083607675762776, 8.87781...</td>\n",
       "    </tr>\n",
       "    <tr>\n",
       "      <th>17620</th>\n",
       "      <td>group17674</td>\n",
       "      <td>50361055400, 45961087900, 57437439400, 5743801...</td>\n",
       "      <td>0.278523</td>\n",
       "      <td>[[('wound', 0.0483006429538537), ('healing', 0...</td>\n",
       "      <td>[12.709334961936293, 10.403442507507862, 10.17...</td>\n",
       "    </tr>\n",
       "    <tr>\n",
       "      <th>17621</th>\n",
       "      <td>group17675</td>\n",
       "      <td>50361055400, 45961087900, 57437439400, 5722298...</td>\n",
       "      <td>0.276853</td>\n",
       "      <td>[[('wound', 0.0483006429538537), ('healing', 0...</td>\n",
       "      <td>[12.633114451383333, 10.341050910952616, 10.11...</td>\n",
       "    </tr>\n",
       "    <tr>\n",
       "      <th>17622</th>\n",
       "      <td>group17676</td>\n",
       "      <td>50361055400, 45961087900, 57438019100, 5722298...</td>\n",
       "      <td>0.276853</td>\n",
       "      <td>[[('wound', 0.0483006429538537), ('healing', 0...</td>\n",
       "      <td>[12.633114451383333, 10.341050910952616, 10.11...</td>\n",
       "    </tr>\n",
       "    <tr>\n",
       "      <th>17623</th>\n",
       "      <td>group17677</td>\n",
       "      <td>50361055400, 45961087900, 57437439400, 5743801...</td>\n",
       "      <td>0.276853</td>\n",
       "      <td>[[('wound', 0.0483006429538537), ('healing', 0...</td>\n",
       "      <td>[12.633114451383333, 10.341050910952616, 10.11...</td>\n",
       "    </tr>\n",
       "  </tbody>\n",
       "</table>\n",
       "<p>17624 rows × 5 columns</p>\n",
       "</div>"
      ],
      "text/plain": [
       "         id_group                                            authors  \\\n",
       "0          group1                7403483234, 57200218104, 6603155100   \n",
       "1          group2                24734179100, 7003513941, 7005237183   \n",
       "2          group3                24734179100, 7005237183, 7102187693   \n",
       "3          group4                 7003513941, 7005237183, 7102187693   \n",
       "4          group5                24734179100, 7003513941, 7102187693   \n",
       "...           ...                                                ...   \n",
       "17619  group17673  50361055400, 57437439400, 57438019100, 5722298...   \n",
       "17620  group17674  50361055400, 45961087900, 57437439400, 5743801...   \n",
       "17621  group17675  50361055400, 45961087900, 57437439400, 5722298...   \n",
       "17622  group17676  50361055400, 45961087900, 57438019100, 5722298...   \n",
       "17623  group17677  50361055400, 45961087900, 57437439400, 5743801...   \n",
       "\n",
       "       index_novelty                                             topics  \\\n",
       "0           0.164957  [[('accidents', 0.059561232558306254), ('traff...   \n",
       "1           0.228035  [[('pigs', 0.05495710726959359), ('piglets', 0...   \n",
       "2           0.417438  [[('epilepsy', 0.06778589132666105), ('seizure...   \n",
       "3           0.227795  [[('pigs', 0.05495710726959359), ('piglets', 0...   \n",
       "4           0.225247  [[('pigs', 0.05495710726959359), ('piglets', 0...   \n",
       "...              ...                                                ...   \n",
       "17619       0.257743  [[('farms', 0.04311967722380283), ('livestock'...   \n",
       "17620       0.278523  [[('wound', 0.0483006429538537), ('healing', 0...   \n",
       "17621       0.276853  [[('wound', 0.0483006429538537), ('healing', 0...   \n",
       "17622       0.276853  [[('wound', 0.0483006429538537), ('healing', 0...   \n",
       "17623       0.276853  [[('wound', 0.0483006429538537), ('healing', 0...   \n",
       "\n",
       "                                             score_final  \n",
       "0      [7.579230178692796, 7.159059091004564, 6.65685...  \n",
       "1      [10.740213204328938, 10.740213204328938, 8.469...  \n",
       "2      [11.450527233615503, 11.165373317306148, 11.16...  \n",
       "3      [10.728905346782083, 10.728905346782083, 8.460...  \n",
       "4      [10.608903936976272, 10.608903936976272, 8.365...  \n",
       "...                                                  ...  \n",
       "17619  [9.627254444952994, 9.083607675762776, 8.87781...  \n",
       "17620  [12.709334961936293, 10.403442507507862, 10.17...  \n",
       "17621  [12.633114451383333, 10.341050910952616, 10.11...  \n",
       "17622  [12.633114451383333, 10.341050910952616, 10.11...  \n",
       "17623  [12.633114451383333, 10.341050910952616, 10.11...  \n",
       "\n",
       "[17624 rows x 5 columns]"
      ]
     },
     "execution_count": 35,
     "metadata": {},
     "output_type": "execute_result"
    }
   ],
   "source": [
    "data"
   ]
  },
  {
   "cell_type": "code",
   "execution_count": 36,
   "id": "f11f295a",
   "metadata": {},
   "outputs": [],
   "source": [
    "kw_model = KeyBERT()"
   ]
  },
  {
   "cell_type": "code",
   "execution_count": 37,
   "id": "04c173d2",
   "metadata": {},
   "outputs": [],
   "source": [
    "ngram_range = (1, 3)\n",
    "top_n = 20"
   ]
  },
  {
   "cell_type": "code",
   "execution_count": 39,
   "id": "dd126e24",
   "metadata": {},
   "outputs": [],
   "source": [
    "def extract_phrases_with_keybert(topics_column, ngram_range, top_n):\n",
    "    recommendations = []\n",
    "    \n",
    "    for topics_str in topics_column:\n",
    "        topics = ast.literal_eval(topics_str)\n",
    "        \n",
    "        combined_keywords = []\n",
    "        for topic in topics:\n",
    "            keywords = [kw for kw, _ in topic]\n",
    "            combined_keywords.extend(keywords)\n",
    "        \n",
    "        text = \" \".join(combined_keywords)\n",
    "        \n",
    "        keyphrases = kw_model.extract_keywords(\n",
    "            text, \n",
    "            keyphrase_ngram_range=ngram_range,\n",
    "            top_n=top_n,\n",
    "            use_maxsum=True,\n",
    "            nr_candidates=20,\n",
    "            diversity=0.80\n",
    "        )\n",
    "        \n",
    "        unique_phrases = set([phrase for phrase, score in keyphrases])\n",
    "        recommendations.append(\", \".join(unique_phrases))\n",
    "    \n",
    "    return recommendations"
   ]
  },
  {
   "cell_type": "code",
   "execution_count": 40,
   "id": "08db4044",
   "metadata": {},
   "outputs": [],
   "source": [
    "data['recommendations_group'] = extract_phrases_with_keybert(data['topics'], ngram_range=ngram_range, top_n=top_n)"
   ]
  },
  {
   "cell_type": "code",
   "execution_count": 41,
   "id": "24a24f33",
   "metadata": {},
   "outputs": [],
   "source": [
    "final_data = data[['id_group', 'authors', 'recommendations_group', 'index_novelty']]"
   ]
  },
  {
   "cell_type": "code",
   "execution_count": 42,
   "id": "afe69312",
   "metadata": {},
   "outputs": [
    {
     "data": {
      "text/html": [
       "<div>\n",
       "<style scoped>\n",
       "    .dataframe tbody tr th:only-of-type {\n",
       "        vertical-align: middle;\n",
       "    }\n",
       "\n",
       "    .dataframe tbody tr th {\n",
       "        vertical-align: top;\n",
       "    }\n",
       "\n",
       "    .dataframe thead th {\n",
       "        text-align: right;\n",
       "    }\n",
       "</style>\n",
       "<table border=\"1\" class=\"dataframe\">\n",
       "  <thead>\n",
       "    <tr style=\"text-align: right;\">\n",
       "      <th></th>\n",
       "      <th>id_group</th>\n",
       "      <th>authors</th>\n",
       "      <th>recommendations_group</th>\n",
       "      <th>index_novelty</th>\n",
       "    </tr>\n",
       "  </thead>\n",
       "  <tbody>\n",
       "    <tr>\n",
       "      <th>0</th>\n",
       "      <td>group1</td>\n",
       "      <td>7403483234, 57200218104, 6603155100</td>\n",
       "      <td>earthquakes, accident driving vehicle, acciden...</td>\n",
       "      <td>0.164957</td>\n",
       "    </tr>\n",
       "    <tr>\n",
       "      <th>1</th>\n",
       "      <td>group2</td>\n",
       "      <td>24734179100, 7003513941, 7005237183</td>\n",
       "      <td>pigs, livestock, breeds, animals pathogenic, p...</td>\n",
       "      <td>0.228035</td>\n",
       "    </tr>\n",
       "    <tr>\n",
       "      <th>2</th>\n",
       "      <td>group3</td>\n",
       "      <td>24734179100, 7005237183, 7102187693</td>\n",
       "      <td>patients health, medical diseases, epileptic c...</td>\n",
       "      <td>0.417438</td>\n",
       "    </tr>\n",
       "    <tr>\n",
       "      <th>3</th>\n",
       "      <td>group4</td>\n",
       "      <td>7003513941, 7005237183, 7102187693</td>\n",
       "      <td>pigs, livestock, breeds, animals pathogenic, p...</td>\n",
       "      <td>0.227795</td>\n",
       "    </tr>\n",
       "    <tr>\n",
       "      <th>4</th>\n",
       "      <td>group5</td>\n",
       "      <td>24734179100, 7003513941, 7102187693</td>\n",
       "      <td>pigs, livestock, breeds, animals pathogenic, p...</td>\n",
       "      <td>0.225247</td>\n",
       "    </tr>\n",
       "    <tr>\n",
       "      <th>...</th>\n",
       "      <td>...</td>\n",
       "      <td>...</td>\n",
       "      <td>...</td>\n",
       "      <td>...</td>\n",
       "    </tr>\n",
       "    <tr>\n",
       "      <th>17619</th>\n",
       "      <td>group17673</td>\n",
       "      <td>50361055400, 57437439400, 57438019100, 5722298...</td>\n",
       "      <td>cattle, livestock, cattle herds herd, herds he...</td>\n",
       "      <td>0.257743</td>\n",
       "    </tr>\n",
       "    <tr>\n",
       "      <th>17620</th>\n",
       "      <td>group17674</td>\n",
       "      <td>50361055400, 45961087900, 57437439400, 5743801...</td>\n",
       "      <td>sperm cows, cattle, herd bovine, painful disab...</td>\n",
       "      <td>0.278523</td>\n",
       "    </tr>\n",
       "    <tr>\n",
       "      <th>17621</th>\n",
       "      <td>group17675</td>\n",
       "      <td>50361055400, 45961087900, 57437439400, 5722298...</td>\n",
       "      <td>sperm cows, cattle, herd bovine, painful disab...</td>\n",
       "      <td>0.276853</td>\n",
       "    </tr>\n",
       "    <tr>\n",
       "      <th>17622</th>\n",
       "      <td>group17676</td>\n",
       "      <td>50361055400, 45961087900, 57438019100, 5722298...</td>\n",
       "      <td>sperm cows, cattle, herd bovine, painful disab...</td>\n",
       "      <td>0.276853</td>\n",
       "    </tr>\n",
       "    <tr>\n",
       "      <th>17623</th>\n",
       "      <td>group17677</td>\n",
       "      <td>50361055400, 45961087900, 57437439400, 5743801...</td>\n",
       "      <td>sperm cows, cattle, herd bovine, painful disab...</td>\n",
       "      <td>0.276853</td>\n",
       "    </tr>\n",
       "  </tbody>\n",
       "</table>\n",
       "<p>17624 rows × 4 columns</p>\n",
       "</div>"
      ],
      "text/plain": [
       "         id_group                                            authors  \\\n",
       "0          group1                7403483234, 57200218104, 6603155100   \n",
       "1          group2                24734179100, 7003513941, 7005237183   \n",
       "2          group3                24734179100, 7005237183, 7102187693   \n",
       "3          group4                 7003513941, 7005237183, 7102187693   \n",
       "4          group5                24734179100, 7003513941, 7102187693   \n",
       "...           ...                                                ...   \n",
       "17619  group17673  50361055400, 57437439400, 57438019100, 5722298...   \n",
       "17620  group17674  50361055400, 45961087900, 57437439400, 5743801...   \n",
       "17621  group17675  50361055400, 45961087900, 57437439400, 5722298...   \n",
       "17622  group17676  50361055400, 45961087900, 57438019100, 5722298...   \n",
       "17623  group17677  50361055400, 45961087900, 57437439400, 5743801...   \n",
       "\n",
       "                                   recommendations_group  index_novelty  \n",
       "0      earthquakes, accident driving vehicle, acciden...       0.164957  \n",
       "1      pigs, livestock, breeds, animals pathogenic, p...       0.228035  \n",
       "2      patients health, medical diseases, epileptic c...       0.417438  \n",
       "3      pigs, livestock, breeds, animals pathogenic, p...       0.227795  \n",
       "4      pigs, livestock, breeds, animals pathogenic, p...       0.225247  \n",
       "...                                                  ...            ...  \n",
       "17619  cattle, livestock, cattle herds herd, herds he...       0.257743  \n",
       "17620  sperm cows, cattle, herd bovine, painful disab...       0.278523  \n",
       "17621  sperm cows, cattle, herd bovine, painful disab...       0.276853  \n",
       "17622  sperm cows, cattle, herd bovine, painful disab...       0.276853  \n",
       "17623  sperm cows, cattle, herd bovine, painful disab...       0.276853  \n",
       "\n",
       "[17624 rows x 4 columns]"
      ]
     },
     "execution_count": 42,
     "metadata": {},
     "output_type": "execute_result"
    }
   ],
   "source": [
    "final_data"
   ]
  },
  {
   "cell_type": "code",
   "execution_count": 45,
   "id": "977d34a6",
   "metadata": {},
   "outputs": [
    {
     "name": "stdout",
     "output_type": "stream",
     "text": [
      "Archivo guardado en: C:/Users/Krlozz/Documents/Tesis/TesisFinal/ProcessedData/recommendations.csv\n"
     ]
    }
   ],
   "source": [
    "final_data.to_csv(output_csv_path_recommendations, index=False)\n",
    "print(f\"Archivo guardado en: {output_csv_path_recommendations}\")"
   ]
  },
  {
   "cell_type": "code",
   "execution_count": null,
   "id": "8f929e18",
   "metadata": {},
   "outputs": [],
   "source": []
  }
 ],
 "metadata": {
  "kernelspec": {
   "display_name": "Python 3 (ipykernel)",
   "language": "python",
   "name": "python3"
  },
  "language_info": {
   "codemirror_mode": {
    "name": "ipython",
    "version": 3
   },
   "file_extension": ".py",
   "mimetype": "text/x-python",
   "name": "python",
   "nbconvert_exporter": "python",
   "pygments_lexer": "ipython3",
   "version": "3.9.13"
  }
 },
 "nbformat": 4,
 "nbformat_minor": 5
}
