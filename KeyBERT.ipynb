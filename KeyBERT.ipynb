{
 "cells": [
  {
   "cell_type": "code",
   "execution_count": 2,
   "id": "4e4bd03e",
   "metadata": {
    "scrolled": true
   },
   "outputs": [
    {
     "name": "stdout",
     "output_type": "stream",
     "text": [
      "Collecting bert-score"
     ]
    },
    {
     "name": "stderr",
     "output_type": "stream",
     "text": [
      "WARNING: Ignoring invalid distribution -rotobuf (c:\\users\\krlozz\\anaconda3\\lib\\site-packages)\n",
      "WARNING: Ignoring invalid distribution -rotobuf (c:\\users\\krlozz\\anaconda3\\lib\\site-packages)\n",
      "WARNING: Ignoring invalid distribution -rotobuf (c:\\users\\krlozz\\anaconda3\\lib\\site-packages)\n",
      "WARNING: Ignoring invalid distribution -rotobuf (c:\\users\\krlozz\\anaconda3\\lib\\site-packages)\n",
      "WARNING: Ignoring invalid distribution -rotobuf (c:\\users\\krlozz\\anaconda3\\lib\\site-packages)\n",
      "WARNING: Ignoring invalid distribution -rotobuf (c:\\users\\krlozz\\anaconda3\\lib\\site-packages)\n",
      "WARNING: Ignoring invalid distribution -rotobuf (c:\\users\\krlozz\\anaconda3\\lib\\site-packages)\n"
     ]
    },
    {
     "name": "stdout",
     "output_type": "stream",
     "text": [
      "\n",
      "  Downloading bert_score-0.3.13-py3-none-any.whl (61 kB)\n",
      "     ---------------------------------------- 61.1/61.1 kB 1.6 MB/s eta 0:00:00\n",
      "Requirement already satisfied: pandas>=1.0.1 in c:\\users\\krlozz\\anaconda3\\lib\\site-packages (from bert-score) (1.4.4)\n",
      "Requirement already satisfied: requests in c:\\users\\krlozz\\anaconda3\\lib\\site-packages (from bert-score) (2.32.3)\n",
      "Requirement already satisfied: tqdm>=4.31.1 in c:\\users\\krlozz\\anaconda3\\lib\\site-packages (from bert-score) (4.66.4)\n",
      "Requirement already satisfied: matplotlib in c:\\users\\krlozz\\anaconda3\\lib\\site-packages (from bert-score) (3.5.2)\n",
      "Requirement already satisfied: packaging>=20.9 in c:\\users\\krlozz\\anaconda3\\lib\\site-packages (from bert-score) (21.3)\n",
      "Requirement already satisfied: numpy in c:\\users\\krlozz\\anaconda3\\lib\\site-packages (from bert-score) (1.21.6)\n",
      "Requirement already satisfied: torch>=1.0.0 in c:\\users\\krlozz\\anaconda3\\lib\\site-packages (from bert-score) (2.5.1)\n",
      "Requirement already satisfied: transformers>=3.0.0 in c:\\users\\krlozz\\anaconda3\\lib\\site-packages (from bert-score) (4.36.2)\n",
      "Requirement already satisfied: pyparsing!=3.0.5,>=2.0.2 in c:\\users\\krlozz\\anaconda3\\lib\\site-packages (from packaging>=20.9->bert-score) (3.0.9)\n",
      "Requirement already satisfied: python-dateutil>=2.8.1 in c:\\users\\krlozz\\anaconda3\\lib\\site-packages (from pandas>=1.0.1->bert-score) (2.8.2)\n",
      "Requirement already satisfied: pytz>=2020.1 in c:\\users\\krlozz\\anaconda3\\lib\\site-packages (from pandas>=1.0.1->bert-score) (2022.1)\n",
      "Requirement already satisfied: jinja2 in c:\\users\\krlozz\\anaconda3\\lib\\site-packages (from torch>=1.0.0->bert-score) (2.11.3)\n",
      "Requirement already satisfied: sympy==1.13.1 in c:\\users\\krlozz\\anaconda3\\lib\\site-packages (from torch>=1.0.0->bert-score) (1.13.1)\n",
      "Requirement already satisfied: fsspec in c:\\users\\krlozz\\anaconda3\\lib\\site-packages (from torch>=1.0.0->bert-score) (2023.12.2)\n",
      "Requirement already satisfied: typing-extensions>=4.8.0 in c:\\users\\krlozz\\anaconda3\\lib\\site-packages (from torch>=1.0.0->bert-score) (4.12.0)\n",
      "Requirement already satisfied: filelock in c:\\users\\krlozz\\anaconda3\\lib\\site-packages (from torch>=1.0.0->bert-score) (3.15.4)\n",
      "Requirement already satisfied: networkx in c:\\users\\krlozz\\anaconda3\\lib\\site-packages (from torch>=1.0.0->bert-score) (2.8.4)\n",
      "Requirement already satisfied: mpmath<1.4,>=1.1.0 in c:\\users\\krlozz\\anaconda3\\lib\\site-packages (from sympy==1.13.1->torch>=1.0.0->bert-score) (1.2.1)\n",
      "Requirement already satisfied: colorama in c:\\users\\krlozz\\anaconda3\\lib\\site-packages (from tqdm>=4.31.1->bert-score) (0.4.6)\n",
      "Requirement already satisfied: regex!=2019.12.17 in c:\\users\\krlozz\\anaconda3\\lib\\site-packages (from transformers>=3.0.0->bert-score) (2022.7.9)\n",
      "Requirement already satisfied: safetensors>=0.3.1 in c:\\users\\krlozz\\anaconda3\\lib\\site-packages (from transformers>=3.0.0->bert-score) (0.4.1)\n",
      "Requirement already satisfied: huggingface-hub<1.0,>=0.19.3 in c:\\users\\krlozz\\anaconda3\\lib\\site-packages (from transformers>=3.0.0->bert-score) (0.24.2)\n",
      "Requirement already satisfied: pyyaml>=5.1 in c:\\users\\krlozz\\anaconda3\\lib\\site-packages (from transformers>=3.0.0->bert-score) (6.0)\n",
      "Requirement already satisfied: tokenizers<0.19,>=0.14 in c:\\users\\krlozz\\anaconda3\\lib\\site-packages (from transformers>=3.0.0->bert-score) (0.15.2)\n",
      "Requirement already satisfied: pillow>=6.2.0 in c:\\users\\krlozz\\anaconda3\\lib\\site-packages (from matplotlib->bert-score) (9.2.0)\n",
      "Requirement already satisfied: fonttools>=4.22.0 in c:\\users\\krlozz\\anaconda3\\lib\\site-packages (from matplotlib->bert-score) (4.25.0)\n",
      "Requirement already satisfied: cycler>=0.10 in c:\\users\\krlozz\\anaconda3\\lib\\site-packages (from matplotlib->bert-score) (0.11.0)\n",
      "Requirement already satisfied: kiwisolver>=1.0.1 in c:\\users\\krlozz\\anaconda3\\lib\\site-packages (from matplotlib->bert-score) (1.4.2)\n",
      "Requirement already satisfied: charset-normalizer<4,>=2 in c:\\users\\krlozz\\anaconda3\\lib\\site-packages (from requests->bert-score) (2.0.4)\n",
      "Requirement already satisfied: idna<4,>=2.5 in c:\\users\\krlozz\\anaconda3\\lib\\site-packages (from requests->bert-score) (3.3)\n",
      "Requirement already satisfied: certifi>=2017.4.17 in c:\\users\\krlozz\\anaconda3\\lib\\site-packages (from requests->bert-score) (2023.11.17)\n",
      "Requirement already satisfied: urllib3<3,>=1.21.1 in c:\\users\\krlozz\\anaconda3\\lib\\site-packages (from requests->bert-score) (1.26.11)\n",
      "Requirement already satisfied: six>=1.5 in c:\\users\\krlozz\\anaconda3\\lib\\site-packages (from python-dateutil>=2.8.1->pandas>=1.0.1->bert-score) (1.16.0)\n",
      "Requirement already satisfied: MarkupSafe>=0.23 in c:\\users\\krlozz\\anaconda3\\lib\\site-packages (from jinja2->torch>=1.0.0->bert-score) (2.0.1)\n",
      "Installing collected packages: bert-score\n",
      "Successfully installed bert-score-0.3.13\n"
     ]
    }
   ],
   "source": [
    "!pip install keybert\n",
    "!pip install bert-score"
   ]
  },
  {
   "cell_type": "raw",
   "id": "4e8f8089",
   "metadata": {},
   "source": [
    "Name: keybert\n",
    "Version: 0.8.5\n",
    "Summary: KeyBERT performs keyword extraction with state-of-the-art transformer models.\n",
    "Home-page: \n",
    "Author: \n",
    "Author-email: Maarten Grootendorst <maartengrootendorst@gmail.com>\n",
    "License: MIT License\n",
    "        \n",
    "        Copyright (c) 2020, Maarten P. Grootendorst\n",
    "        \n",
    "        Permission is hereby granted, free of charge, to any person obtaining a copy\n",
    "        of this software and associated documentation files (the \"Software\"), to deal\n",
    "        in the Software without restriction, including without limitation the rights\n",
    "        to use, copy, modify, merge, publish, distribute, sublicense, and/or sell\n",
    "        copies of the Software, and to permit persons to whom the Software is\n",
    "        furnished to do so, subject to the following conditions:\n",
    "        \n",
    "        The above copyright notice and this permission notice shall be included in all\n",
    "        copies or substantial portions of the Software.\n",
    "        \n",
    "        THE SOFTWARE IS PROVIDED \"AS IS\", WITHOUT WARRANTY OF ANY KIND, EXPRESS OR\n",
    "        IMPLIED, INCLUDING BUT NOT LIMITED TO THE WARRANTIES OF MERCHANTABILITY,\n",
    "        FITNESS FOR A PARTICULAR PURPOSE AND NONINFRINGEMENT. IN NO EVENT SHALL THE\n",
    "        AUTHORS OR COPYRIGHT HOLDERS BE LIABLE FOR ANY CLAIM, DAMAGES OR OTHER\n",
    "        LIABILITY, WHETHER IN AN ACTION OF CONTRACT, TORT OR OTHERWISE, ARISING FROM,\n",
    "        OUT OF OR IN CONNECTION WITH THE SOFTWARE OR THE USE OR OTHER DEALINGS IN THE\n",
    "        SOFTWARE.\n",
    "        \n",
    "Location: c:\\users\\krlozz\\anaconda3\\lib\\site-packages\n",
    "Requires: numpy, rich, scikit-learn, sentence-transformers"
   ]
  },
  {
   "cell_type": "raw",
   "id": "d87bcbbe",
   "metadata": {},
   "source": [
    "Name: bert-score\n",
    "Version: 0.3.13\n",
    "Summary: PyTorch implementation of BERT score\n",
    "Home-page: https://github.com/Tiiiger/bert_score\n",
    "Author: Tianyi Zhang*, Varsha Kishore*, Felix Wu*, Kilian Q. Weinberger, and Yoav Artzi\n",
    "Author-email: tzhang@asapp.com\n",
    "License: MIT\n",
    "Location: c:\\users\\krlozz\\anaconda3\\lib\\site-packages\n",
    "Requires: matplotlib, numpy, packaging, pandas, requests, torch, tqdm, transformers"
   ]
  },
  {
   "cell_type": "markdown",
   "id": "e1c3e03d",
   "metadata": {},
   "source": [
    "# KeyBERT"
   ]
  },
  {
   "cell_type": "code",
   "execution_count": 3,
   "id": "c93eb2bb",
   "metadata": {},
   "outputs": [],
   "source": [
    "import pandas as pd\n",
    "import numpy as np\n",
    "from keybert import KeyBERT\n",
    "from bert_score import BERTScorer\n",
    "from sklearn.metrics.pairwise import cosine_similarity\n",
    "import joblib"
   ]
  },
  {
   "cell_type": "code",
   "execution_count": 5,
   "id": "7f0d3742",
   "metadata": {},
   "outputs": [],
   "source": [
    "article_clean = 'C:/Users/Krlozz/Documents/Tesis/TesisFinal/ProcessedData/article_clean.csv'\n",
    "data = pd.read_csv(article_clean)\n",
    "model_sentece_path = \"C:/Users/Krlozz/Documents/Tesis/TesisFinal/Model/sentence_bert_model\""
   ]
  },
  {
   "cell_type": "code",
   "execution_count": 7,
   "id": "d17eab31",
   "metadata": {},
   "outputs": [],
   "source": [
    "model_sentece = joblib.load(model_sentece_path)"
   ]
  },
  {
   "cell_type": "code",
   "execution_count": 8,
   "id": "5080a5f2",
   "metadata": {},
   "outputs": [
    {
     "data": {
      "application/vnd.jupyter.widget-view+json": {
       "model_id": "4a694a9caa9644fab6cb03392989f480",
       "version_major": 2,
       "version_minor": 0
      },
      "text/plain": [
       "tokenizer_config.json:   0%|          | 0.00/49.0 [00:00<?, ?B/s]"
      ]
     },
     "metadata": {},
     "output_type": "display_data"
    },
    {
     "name": "stderr",
     "output_type": "stream",
     "text": [
      "C:\\Users\\Krlozz\\anaconda3\\lib\\site-packages\\huggingface_hub\\file_download.py:159: UserWarning: `huggingface_hub` cache-system uses symlinks by default to efficiently store duplicated files but your machine does not support them in C:\\Users\\Krlozz\\.cache\\huggingface\\hub\\models--bert-base-multilingual-cased. Caching files will still work but in a degraded version that might require more space on your disk. This warning can be disabled by setting the `HF_HUB_DISABLE_SYMLINKS_WARNING` environment variable. For more details, see https://huggingface.co/docs/huggingface_hub/how-to-cache#limitations.\n",
      "To support symlinks on Windows, you either need to activate Developer Mode or to run Python as an administrator. In order to see activate developer mode, see this article: https://docs.microsoft.com/en-us/windows/apps/get-started/enable-your-device-for-development\n",
      "  warnings.warn(message)\n"
     ]
    },
    {
     "data": {
      "application/vnd.jupyter.widget-view+json": {
       "model_id": "ca8208289a4c4bf59bf8a35c5a403c99",
       "version_major": 2,
       "version_minor": 0
      },
      "text/plain": [
       "config.json:   0%|          | 0.00/625 [00:00<?, ?B/s]"
      ]
     },
     "metadata": {},
     "output_type": "display_data"
    },
    {
     "data": {
      "application/vnd.jupyter.widget-view+json": {
       "model_id": "ab9207d536cd42d2a7385fdf2a4c5875",
       "version_major": 2,
       "version_minor": 0
      },
      "text/plain": [
       "vocab.txt:   0%|          | 0.00/996k [00:00<?, ?B/s]"
      ]
     },
     "metadata": {},
     "output_type": "display_data"
    },
    {
     "data": {
      "application/vnd.jupyter.widget-view+json": {
       "model_id": "ee547ad87d27449b9bc96a75f3b710a0",
       "version_major": 2,
       "version_minor": 0
      },
      "text/plain": [
       "tokenizer.json:   0%|          | 0.00/1.96M [00:00<?, ?B/s]"
      ]
     },
     "metadata": {},
     "output_type": "display_data"
    },
    {
     "data": {
      "application/vnd.jupyter.widget-view+json": {
       "model_id": "bdd74df050b74da99876355c8e677bee",
       "version_major": 2,
       "version_minor": 0
      },
      "text/plain": [
       "model.safetensors:   0%|          | 0.00/714M [00:00<?, ?B/s]"
      ]
     },
     "metadata": {},
     "output_type": "display_data"
    }
   ],
   "source": [
    "keybert_model = KeyBERT(model=model_sentece)\n",
    "scorer = BERTScorer(lang='en', model_type=\"bert-base-multilingual-cased\", rescale_with_baseline=True)"
   ]
  },
  {
   "cell_type": "code",
   "execution_count": 9,
   "id": "32a859c8",
   "metadata": {},
   "outputs": [],
   "source": [
    "ngram_range = (1, 3)\n",
    "results = []"
   ]
  },
  {
   "cell_type": "code",
   "execution_count": 11,
   "id": "a1443f26",
   "metadata": {},
   "outputs": [],
   "source": [
    "for _, row in data.iterrows():\n",
    "    article_id = row['id_article']\n",
    "    abstract = row['abstract']\n",
    "    original_keywords = row['keywords'] if not pd.isna(row['keywords']) else \"\"\n",
    "    n_keywords = row['num_keywords'] if not pd.isna(row['num_keywords']) else 0\n",
    "\n",
    "    if pd.isna(abstract) or n_keywords == 0:\n",
    "        results.append([article_id, original_keywords, None, None, None, None, None])\n",
    "        continue\n",
    "\n",
    "    generated_keywords = keybert_model.extract_keywords(\n",
    "        abstract,\n",
    "        keyphrase_ngram_range=ngram_range,\n",
    "        top_n=int(n_keywords),\n",
    "        use_maxsum=True,\n",
    "        use_mmr=True,\n",
    "        nr_candidates=20,\n",
    "        diversity=0.65\n",
    "    )\n",
    "    generated_keywords = [kw[0] for kw in generated_keywords]\n",
    "    if original_keywords:\n",
    "        reference_keywords = original_keywords.split(\", \")\n",
    "        P, R, F1 = scorer.score([\", \".join(generated_keywords)], [\", \".join(reference_keywords)])\n",
    "        P, R, F1 = P.item(), R.item(), F1.item()\n",
    "        generated_embeddings = model_sentece.encode(generated_keywords)\n",
    "        original_embeddings = model_sentece.encode(reference_keywords)\n",
    "        simi_cosine = cosine_similarity(\n",
    "            np.mean(generated_embeddings, axis=0).reshape(1, -1),\n",
    "            np.mean(original_embeddings, axis=0).reshape(1, -1)\n",
    "        )[0][0]\n",
    "    else:\n",
    "        P, R, F1, simi_cosine = None, None, None, None\n",
    "    \n",
    "    results.append([article_id, original_keywords, \", \".join(generated_keywords), P, R, F1, simi_cosine])"
   ]
  },
  {
   "cell_type": "code",
   "execution_count": 12,
   "id": "f945e0a7",
   "metadata": {},
   "outputs": [],
   "source": [
    "columns = ['id_article', 'keywords', 'generated_keywords', 'Precision', 'Recall', 'F1', 'simi_cosine']\n",
    "results_df = pd.DataFrame(results, columns=columns)"
   ]
  },
  {
   "cell_type": "code",
   "execution_count": 13,
   "id": "fa3fc5e5",
   "metadata": {},
   "outputs": [
    {
     "data": {
      "text/html": [
       "<div>\n",
       "<style scoped>\n",
       "    .dataframe tbody tr th:only-of-type {\n",
       "        vertical-align: middle;\n",
       "    }\n",
       "\n",
       "    .dataframe tbody tr th {\n",
       "        vertical-align: top;\n",
       "    }\n",
       "\n",
       "    .dataframe thead th {\n",
       "        text-align: right;\n",
       "    }\n",
       "</style>\n",
       "<table border=\"1\" class=\"dataframe\">\n",
       "  <thead>\n",
       "    <tr style=\"text-align: right;\">\n",
       "      <th></th>\n",
       "      <th>id_article</th>\n",
       "      <th>keywords</th>\n",
       "      <th>generated_keywords</th>\n",
       "      <th>Precision</th>\n",
       "      <th>Recall</th>\n",
       "      <th>F1</th>\n",
       "      <th>simi_cosine</th>\n",
       "    </tr>\n",
       "  </thead>\n",
       "  <tbody>\n",
       "    <tr>\n",
       "      <th>0</th>\n",
       "      <td>85133492759</td>\n",
       "      <td>audio signals design process, experimental des...</td>\n",
       "      <td>audio reactive nature, art design research, fo...</td>\n",
       "      <td>0.326585</td>\n",
       "      <td>0.414834</td>\n",
       "      <td>0.370737</td>\n",
       "      <td>0.663579</td>\n",
       "    </tr>\n",
       "    <tr>\n",
       "      <th>1</th>\n",
       "      <td>85133293730</td>\n",
       "      <td>facility layout problem, indicators, resilienc...</td>\n",
       "      <td>areas business resilience, type weakness cause...</td>\n",
       "      <td>0.483017</td>\n",
       "      <td>0.522297</td>\n",
       "      <td>0.503239</td>\n",
       "      <td>0.753503</td>\n",
       "    </tr>\n",
       "    <tr>\n",
       "      <th>2</th>\n",
       "      <td>85132518705</td>\n",
       "      <td>confidence distribution, confidence interval, ...</td>\n",
       "      <td>powerful confidence distributions, family cond...</td>\n",
       "      <td>0.366932</td>\n",
       "      <td>0.384881</td>\n",
       "      <td>0.376815</td>\n",
       "      <td>0.817440</td>\n",
       "    </tr>\n",
       "    <tr>\n",
       "      <th>3</th>\n",
       "      <td>85112575431</td>\n",
       "      <td>competitiveness, corporate social responsibili...</td>\n",
       "      <td>green innovation competitiveness, corporate so...</td>\n",
       "      <td>0.386677</td>\n",
       "      <td>0.541415</td>\n",
       "      <td>0.462127</td>\n",
       "      <td>0.729455</td>\n",
       "    </tr>\n",
       "    <tr>\n",
       "      <th>4</th>\n",
       "      <td>85109263966</td>\n",
       "      <td>food industry, global supply chain, supply cha...</td>\n",
       "      <td>influenced supplier sustainability, logics exi...</td>\n",
       "      <td>0.089249</td>\n",
       "      <td>0.271203</td>\n",
       "      <td>0.177125</td>\n",
       "      <td>0.616395</td>\n",
       "    </tr>\n",
       "    <tr>\n",
       "      <th>...</th>\n",
       "      <td>...</td>\n",
       "      <td>...</td>\n",
       "      <td>...</td>\n",
       "      <td>...</td>\n",
       "      <td>...</td>\n",
       "      <td>...</td>\n",
       "      <td>...</td>\n",
       "    </tr>\n",
       "    <tr>\n",
       "      <th>37673</th>\n",
       "      <td>12371997</td>\n",
       "      <td></td>\n",
       "      <td>produce allergenic pollen, grasses limited, so...</td>\n",
       "      <td>NaN</td>\n",
       "      <td>NaN</td>\n",
       "      <td>NaN</td>\n",
       "      <td>NaN</td>\n",
       "    </tr>\n",
       "    <tr>\n",
       "      <th>37674</th>\n",
       "      <td>84918742422</td>\n",
       "      <td></td>\n",
       "      <td>pigs histamine shock, complex protect guinea, ...</td>\n",
       "      <td>NaN</td>\n",
       "      <td>NaN</td>\n",
       "      <td>NaN</td>\n",
       "      <td>NaN</td>\n",
       "    </tr>\n",
       "    <tr>\n",
       "      <th>37675</th>\n",
       "      <td>34347185703</td>\n",
       "      <td></td>\n",
       "      <td>reagents consumed titrimetric, unavoidable con...</td>\n",
       "      <td>NaN</td>\n",
       "      <td>NaN</td>\n",
       "      <td>NaN</td>\n",
       "      <td>NaN</td>\n",
       "    </tr>\n",
       "    <tr>\n",
       "      <th>37676</th>\n",
       "      <td>33947340215</td>\n",
       "      <td></td>\n",
       "      <td>sulfated ash method, standardized time tempera...</td>\n",
       "      <td>NaN</td>\n",
       "      <td>NaN</td>\n",
       "      <td>NaN</td>\n",
       "      <td>NaN</td>\n",
       "    </tr>\n",
       "    <tr>\n",
       "      <th>37677</th>\n",
       "      <td>33947348189</td>\n",
       "      <td></td>\n",
       "      <td>bromide potassium chloride, half cell, possibl...</td>\n",
       "      <td>NaN</td>\n",
       "      <td>NaN</td>\n",
       "      <td>NaN</td>\n",
       "      <td>NaN</td>\n",
       "    </tr>\n",
       "  </tbody>\n",
       "</table>\n",
       "<p>37678 rows × 7 columns</p>\n",
       "</div>"
      ],
      "text/plain": [
       "        id_article                                           keywords  \\\n",
       "0      85133492759  audio signals design process, experimental des...   \n",
       "1      85133293730  facility layout problem, indicators, resilienc...   \n",
       "2      85132518705  confidence distribution, confidence interval, ...   \n",
       "3      85112575431  competitiveness, corporate social responsibili...   \n",
       "4      85109263966  food industry, global supply chain, supply cha...   \n",
       "...            ...                                                ...   \n",
       "37673     12371997                                                      \n",
       "37674  84918742422                                                      \n",
       "37675  34347185703                                                      \n",
       "37676  33947340215                                                      \n",
       "37677  33947348189                                                      \n",
       "\n",
       "                                      generated_keywords  Precision    Recall  \\\n",
       "0      audio reactive nature, art design research, fo...   0.326585  0.414834   \n",
       "1      areas business resilience, type weakness cause...   0.483017  0.522297   \n",
       "2      powerful confidence distributions, family cond...   0.366932  0.384881   \n",
       "3      green innovation competitiveness, corporate so...   0.386677  0.541415   \n",
       "4      influenced supplier sustainability, logics exi...   0.089249  0.271203   \n",
       "...                                                  ...        ...       ...   \n",
       "37673  produce allergenic pollen, grasses limited, so...        NaN       NaN   \n",
       "37674  pigs histamine shock, complex protect guinea, ...        NaN       NaN   \n",
       "37675  reagents consumed titrimetric, unavoidable con...        NaN       NaN   \n",
       "37676  sulfated ash method, standardized time tempera...        NaN       NaN   \n",
       "37677  bromide potassium chloride, half cell, possibl...        NaN       NaN   \n",
       "\n",
       "             F1  simi_cosine  \n",
       "0      0.370737     0.663579  \n",
       "1      0.503239     0.753503  \n",
       "2      0.376815     0.817440  \n",
       "3      0.462127     0.729455  \n",
       "4      0.177125     0.616395  \n",
       "...         ...          ...  \n",
       "37673       NaN          NaN  \n",
       "37674       NaN          NaN  \n",
       "37675       NaN          NaN  \n",
       "37676       NaN          NaN  \n",
       "37677       NaN          NaN  \n",
       "\n",
       "[37678 rows x 7 columns]"
      ]
     },
     "execution_count": 13,
     "metadata": {},
     "output_type": "execute_result"
    }
   ],
   "source": [
    "results_df"
   ]
  },
  {
   "cell_type": "code",
   "execution_count": 14,
   "id": "917c0626",
   "metadata": {},
   "outputs": [
    {
     "name": "stdout",
     "output_type": "stream",
     "text": [
      "Resultados guardados en: C:/Users/Krlozz/Documents/Tesis/TesisFinal/ProcessedData/generated_keywords_articles.csv\n"
     ]
    }
   ],
   "source": [
    "output_path = \"C:/Users/Krlozz/Documents/Tesis/TesisFinal/ProcessedData/generated_keywords_articles.csv\"\n",
    "results_df.to_csv(output_path, index=False)\n",
    "print(f\"Resultados guardados en: {output_path}\")"
   ]
  },
  {
   "cell_type": "code",
   "execution_count": 19,
   "id": "03436cc6",
   "metadata": {},
   "outputs": [],
   "source": [
    "columns = ['Precision', 'Recall', 'F1', 'simi_cosine']"
   ]
  },
  {
   "cell_type": "code",
   "execution_count": 20,
   "id": "12d09f39",
   "metadata": {},
   "outputs": [],
   "source": [
    "metrics_final = {\n",
    "    \"Metric\": [\"Precision\", \"Recall\", \"F1 Score\", \"Cosine Similarity\"],\n",
    "    \"Average Value\": [results_df[column].mean(skipna=True) for column in columns],\n",
    "    \"Minimum Value\": [results_df[column].min(skipna=True) for column in columns],\n",
    "    \"Maximum Value\": [results_df[column].max(skipna=True) for column in columns],\n",
    "}"
   ]
  },
  {
   "cell_type": "code",
   "execution_count": 21,
   "id": "63bdc166",
   "metadata": {},
   "outputs": [],
   "source": [
    "summary_df = pd.DataFrame(metrics_final)"
   ]
  },
  {
   "cell_type": "code",
   "execution_count": 22,
   "id": "a2e559a7",
   "metadata": {},
   "outputs": [
    {
     "data": {
      "text/html": [
       "<div>\n",
       "<style scoped>\n",
       "    .dataframe tbody tr th:only-of-type {\n",
       "        vertical-align: middle;\n",
       "    }\n",
       "\n",
       "    .dataframe tbody tr th {\n",
       "        vertical-align: top;\n",
       "    }\n",
       "\n",
       "    .dataframe thead th {\n",
       "        text-align: right;\n",
       "    }\n",
       "</style>\n",
       "<table border=\"1\" class=\"dataframe\">\n",
       "  <thead>\n",
       "    <tr style=\"text-align: right;\">\n",
       "      <th></th>\n",
       "      <th>Metric</th>\n",
       "      <th>Average Value</th>\n",
       "      <th>Minimum Value</th>\n",
       "      <th>Maximum Value</th>\n",
       "    </tr>\n",
       "  </thead>\n",
       "  <tbody>\n",
       "    <tr>\n",
       "      <th>0</th>\n",
       "      <td>Precision</td>\n",
       "      <td>0.230507</td>\n",
       "      <td>-0.375034</td>\n",
       "      <td>1.0</td>\n",
       "    </tr>\n",
       "    <tr>\n",
       "      <th>1</th>\n",
       "      <td>Recall</td>\n",
       "      <td>0.322880</td>\n",
       "      <td>-0.299159</td>\n",
       "      <td>1.0</td>\n",
       "    </tr>\n",
       "    <tr>\n",
       "      <th>2</th>\n",
       "      <td>F1 Score</td>\n",
       "      <td>0.275835</td>\n",
       "      <td>-0.265591</td>\n",
       "      <td>1.0</td>\n",
       "    </tr>\n",
       "    <tr>\n",
       "      <th>3</th>\n",
       "      <td>Cosine Similarity</td>\n",
       "      <td>0.635526</td>\n",
       "      <td>0.043009</td>\n",
       "      <td>1.0</td>\n",
       "    </tr>\n",
       "  </tbody>\n",
       "</table>\n",
       "</div>"
      ],
      "text/plain": [
       "              Metric  Average Value  Minimum Value  Maximum Value\n",
       "0          Precision       0.230507      -0.375034            1.0\n",
       "1             Recall       0.322880      -0.299159            1.0\n",
       "2           F1 Score       0.275835      -0.265591            1.0\n",
       "3  Cosine Similarity       0.635526       0.043009            1.0"
      ]
     },
     "execution_count": 22,
     "metadata": {},
     "output_type": "execute_result"
    }
   ],
   "source": [
    "summary_df"
   ]
  },
  {
   "cell_type": "code",
   "execution_count": null,
   "id": "7777f6b0",
   "metadata": {},
   "outputs": [],
   "source": []
  }
 ],
 "metadata": {
  "kernelspec": {
   "display_name": "Python 3 (ipykernel)",
   "language": "python",
   "name": "python3"
  },
  "language_info": {
   "codemirror_mode": {
    "name": "ipython",
    "version": 3
   },
   "file_extension": ".py",
   "mimetype": "text/x-python",
   "name": "python",
   "nbconvert_exporter": "python",
   "pygments_lexer": "ipython3",
   "version": "3.9.13"
  }
 },
 "nbformat": 4,
 "nbformat_minor": 5
}
